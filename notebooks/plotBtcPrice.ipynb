{
 "cells": [
  {
   "cell_type": "code",
   "execution_count": 1,
   "id": "70740876-b094-4d8b-bdcb-4c06f7e8aab7",
   "metadata": {},
   "outputs": [],
   "source": [
    "import matplotlib.pyplot as plt \n",
    "\n",
    "# Declaro la funcion: recibe un dataframe y el titulo del grafico (valor por defecto: 'Precio BTC')\n",
    "def plotBtcPrice(df, title='Precio BTC'):\n",
    "\n",
    "    # Crea una figura con tamaño 12x6\n",
    "    plt.figure(figsize=(12,6))\n",
    "\n",
    "    # Dibuja el precio usando las columnas del dataframe\n",
    "    plt.plot(df['timestamp'], df['price'], label='Precio BTC', alpha=0.7)\n",
    "\n",
    "    # Anyado titulo, etiquetas, leyenda, cuadricula y muestro el grafico\n",
    "    plt.title(title)\n",
    "    plt.xlabel('Fecha')\n",
    "    plt.ylabel('Precio(USD)')\n",
    "    plt.legend()\n",
    "    plt.grid(True)\n",
    "    \n",
    "    plt.show()"
   ]
  },
  {
   "cell_type": "code",
   "execution_count": null,
   "id": "7c5e2932-4e56-4e56-939c-0d755e5247c7",
   "metadata": {},
   "outputs": [],
   "source": []
  }
 ],
 "metadata": {
  "kernelspec": {
   "display_name": "Python 3 (ipykernel)",
   "language": "python",
   "name": "python3"
  },
  "language_info": {
   "codemirror_mode": {
    "name": "ipython",
    "version": 3
   },
   "file_extension": ".py",
   "mimetype": "text/x-python",
   "name": "python",
   "nbconvert_exporter": "python",
   "pygments_lexer": "ipython3",
   "version": "3.13.3"
  }
 },
 "nbformat": 4,
 "nbformat_minor": 5
}
